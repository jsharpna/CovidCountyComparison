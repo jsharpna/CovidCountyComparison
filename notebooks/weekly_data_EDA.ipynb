{
 "cells": [
  {
   "cell_type": "code",
   "execution_count": 2,
   "id": "opened-planet",
   "metadata": {},
   "outputs": [],
   "source": [
    "import pandas as pd\n",
    "import numpy as np\n",
    "import plotnine as p9\n",
    "import matplotlib.pyplot as plt\n",
    "plt.style.use('ggplot')"
   ]
  },
  {
   "cell_type": "code",
   "execution_count": 3,
   "id": "catholic-management",
   "metadata": {},
   "outputs": [],
   "source": [
    "week_data = pd.read_csv('../data/week_sum_demo.csv',dtype={'FIPS':str})\n",
    "total_prop = week_data.groupby('week').sum().eval('pos_results/days_by_10kpop')\n",
    "\n",
    "def week_num(df):\n",
    "    df['week_num'] = np.arange(df.shape[0])\n",
    "    df['ca_prop'] = total_prop.values\n",
    "    return df\n",
    "\n",
    "week_data = week_data.groupby('FIPS').apply(week_num)\n",
    "week_data['pos_prop'] = week_data.eval('pos_results / days_by_10kpop')"
   ]
  },
  {
   "cell_type": "code",
   "execution_count": 4,
   "id": "falling-lindsay",
   "metadata": {},
   "outputs": [
    {
     "data": {
      "text/html": [
       "<div>\n",
       "<style scoped>\n",
       "    .dataframe tbody tr th:only-of-type {\n",
       "        vertical-align: middle;\n",
       "    }\n",
       "\n",
       "    .dataframe tbody tr th {\n",
       "        vertical-align: top;\n",
       "    }\n",
       "\n",
       "    .dataframe thead th {\n",
       "        text-align: right;\n",
       "    }\n",
       "</style>\n",
       "<table border=\"1\" class=\"dataframe\">\n",
       "  <thead>\n",
       "    <tr style=\"text-align: right;\">\n",
       "      <th></th>\n",
       "      <th>FIPS</th>\n",
       "      <th>week</th>\n",
       "      <th>pos_results</th>\n",
       "      <th>days_by_10kpop</th>\n",
       "      <th>youth</th>\n",
       "      <th>seniors</th>\n",
       "      <th>hispanic_pop</th>\n",
       "      <th>black_pop</th>\n",
       "      <th>asian_pop</th>\n",
       "      <th>pov_prop</th>\n",
       "      <th>bac_prop</th>\n",
       "      <th>total_pop</th>\n",
       "      <th>week_num</th>\n",
       "      <th>ca_prop</th>\n",
       "      <th>pos_prop</th>\n",
       "    </tr>\n",
       "  </thead>\n",
       "  <tbody>\n",
       "    <tr>\n",
       "      <th>0</th>\n",
       "      <td>06001</td>\n",
       "      <td>2020-04-27/2020-05-03</td>\n",
       "      <td>68.0</td>\n",
       "      <td>334.2658</td>\n",
       "      <td>0.284829</td>\n",
       "      <td>0.142858</td>\n",
       "      <td>0.223209</td>\n",
       "      <td>0.128276</td>\n",
       "      <td>0.355406</td>\n",
       "      <td>0.726566</td>\n",
       "      <td>0.429647</td>\n",
       "      <td>1671329.0</td>\n",
       "      <td>0</td>\n",
       "      <td>0.432145</td>\n",
       "      <td>0.203431</td>\n",
       "    </tr>\n",
       "    <tr>\n",
       "      <th>1</th>\n",
       "      <td>06001</td>\n",
       "      <td>2020-05-04/2020-05-10</td>\n",
       "      <td>342.0</td>\n",
       "      <td>1169.9303</td>\n",
       "      <td>0.284829</td>\n",
       "      <td>0.142858</td>\n",
       "      <td>0.223209</td>\n",
       "      <td>0.128276</td>\n",
       "      <td>0.355406</td>\n",
       "      <td>0.726566</td>\n",
       "      <td>0.429647</td>\n",
       "      <td>1671329.0</td>\n",
       "      <td>1</td>\n",
       "      <td>0.517706</td>\n",
       "      <td>0.292325</td>\n",
       "    </tr>\n",
       "    <tr>\n",
       "      <th>2</th>\n",
       "      <td>06001</td>\n",
       "      <td>2020-05-11/2020-05-17</td>\n",
       "      <td>362.0</td>\n",
       "      <td>1169.9303</td>\n",
       "      <td>0.284829</td>\n",
       "      <td>0.142858</td>\n",
       "      <td>0.223209</td>\n",
       "      <td>0.128276</td>\n",
       "      <td>0.355406</td>\n",
       "      <td>0.726566</td>\n",
       "      <td>0.429647</td>\n",
       "      <td>1671329.0</td>\n",
       "      <td>2</td>\n",
       "      <td>0.636584</td>\n",
       "      <td>0.309420</td>\n",
       "    </tr>\n",
       "    <tr>\n",
       "      <th>3</th>\n",
       "      <td>06001</td>\n",
       "      <td>2020-05-18/2020-05-24</td>\n",
       "      <td>674.0</td>\n",
       "      <td>1169.9303</td>\n",
       "      <td>0.284829</td>\n",
       "      <td>0.142858</td>\n",
       "      <td>0.223209</td>\n",
       "      <td>0.128276</td>\n",
       "      <td>0.355406</td>\n",
       "      <td>0.726566</td>\n",
       "      <td>0.429647</td>\n",
       "      <td>1671329.0</td>\n",
       "      <td>3</td>\n",
       "      <td>0.727912</td>\n",
       "      <td>0.576103</td>\n",
       "    </tr>\n",
       "    <tr>\n",
       "      <th>4</th>\n",
       "      <td>06001</td>\n",
       "      <td>2020-05-25/2020-05-31</td>\n",
       "      <td>642.0</td>\n",
       "      <td>1169.9303</td>\n",
       "      <td>0.284829</td>\n",
       "      <td>0.142858</td>\n",
       "      <td>0.223209</td>\n",
       "      <td>0.128276</td>\n",
       "      <td>0.355406</td>\n",
       "      <td>0.726566</td>\n",
       "      <td>0.429647</td>\n",
       "      <td>1671329.0</td>\n",
       "      <td>4</td>\n",
       "      <td>0.900481</td>\n",
       "      <td>0.548751</td>\n",
       "    </tr>\n",
       "  </tbody>\n",
       "</table>\n",
       "</div>"
      ],
      "text/plain": [
       "    FIPS                   week  pos_results  days_by_10kpop     youth  \\\n",
       "0  06001  2020-04-27/2020-05-03         68.0        334.2658  0.284829   \n",
       "1  06001  2020-05-04/2020-05-10        342.0       1169.9303  0.284829   \n",
       "2  06001  2020-05-11/2020-05-17        362.0       1169.9303  0.284829   \n",
       "3  06001  2020-05-18/2020-05-24        674.0       1169.9303  0.284829   \n",
       "4  06001  2020-05-25/2020-05-31        642.0       1169.9303  0.284829   \n",
       "\n",
       "    seniors  hispanic_pop  black_pop  asian_pop  pov_prop  bac_prop  \\\n",
       "0  0.142858      0.223209   0.128276   0.355406  0.726566  0.429647   \n",
       "1  0.142858      0.223209   0.128276   0.355406  0.726566  0.429647   \n",
       "2  0.142858      0.223209   0.128276   0.355406  0.726566  0.429647   \n",
       "3  0.142858      0.223209   0.128276   0.355406  0.726566  0.429647   \n",
       "4  0.142858      0.223209   0.128276   0.355406  0.726566  0.429647   \n",
       "\n",
       "   total_pop  week_num   ca_prop  pos_prop  \n",
       "0  1671329.0         0  0.432145  0.203431  \n",
       "1  1671329.0         1  0.517706  0.292325  \n",
       "2  1671329.0         2  0.636584  0.309420  \n",
       "3  1671329.0         3  0.727912  0.576103  \n",
       "4  1671329.0         4  0.900481  0.548751  "
      ]
     },
     "execution_count": 4,
     "metadata": {},
     "output_type": "execute_result"
    }
   ],
   "source": [
    "week_data.head()"
   ]
  },
  {
   "cell_type": "code",
   "execution_count": 5,
   "id": "engaged-collection",
   "metadata": {},
   "outputs": [
    {
     "name": "stderr",
     "output_type": "stream",
     "text": [
      "/home/jsharpna/.local/lib/python3.8/site-packages/plotnine/ggplot.py:727: PlotnineWarning: Saving 6.4 x 4.8 in image.\n",
      "/home/jsharpna/.local/lib/python3.8/site-packages/plotnine/ggplot.py:730: PlotnineWarning: Filename: seniors_prop.png\n",
      "/home/jsharpna/.local/lib/python3.8/site-packages/pandas/core/arraylike.py:358: RuntimeWarning: divide by zero encountered in log10\n"
     ]
    }
   ],
   "source": [
    "fig = p9.ggplot(week_data, p9.aes(x='seniors', y='pos_prop', color='week_num')) + p9.geom_point()\\\n",
    "+ p9.scale_x_log10() + p9.scale_y_log10() + p9.geom_smooth()\\\n",
    "+ p9.labels.labs(x='Seniors prop', y='Pos prop (per day by 10K pop)', color='Week number')\n",
    "fig.save('seniors_prop.png')"
   ]
  },
  {
   "cell_type": "code",
   "execution_count": 6,
   "id": "casual-operator",
   "metadata": {},
   "outputs": [
    {
     "name": "stderr",
     "output_type": "stream",
     "text": [
      "/home/jsharpna/.local/lib/python3.8/site-packages/plotnine/ggplot.py:727: PlotnineWarning: Saving 6.4 x 4.8 in image.\n",
      "/home/jsharpna/.local/lib/python3.8/site-packages/plotnine/ggplot.py:730: PlotnineWarning: Filename: latino_prop.png\n",
      "/home/jsharpna/.local/lib/python3.8/site-packages/pandas/core/arraylike.py:358: RuntimeWarning: divide by zero encountered in log10\n"
     ]
    }
   ],
   "source": [
    "fig = p9.ggplot(week_data, p9.aes(x='hispanic_pop', y='pos_prop', color='week_num')) + p9.geom_point()\\\n",
    "+ p9.scale_x_log10() + p9.scale_y_log10() + p9.geom_smooth()\\\n",
    "+ p9.labels.labs(x='Hispanic prop', y='Pos prop (per day by 10K pop)', color='Week number')\n",
    "fig.save('latino_prop.png')"
   ]
  },
  {
   "cell_type": "code",
   "execution_count": 7,
   "id": "complete-floating",
   "metadata": {},
   "outputs": [
    {
     "name": "stderr",
     "output_type": "stream",
     "text": [
      "/home/jsharpna/.local/lib/python3.8/site-packages/plotnine/ggplot.py:727: PlotnineWarning: Saving 6.4 x 4.8 in image.\n",
      "/home/jsharpna/.local/lib/python3.8/site-packages/plotnine/ggplot.py:730: PlotnineWarning: Filename: black_prop.png\n",
      "/home/jsharpna/.local/lib/python3.8/site-packages/pandas/core/arraylike.py:358: RuntimeWarning: divide by zero encountered in log10\n"
     ]
    }
   ],
   "source": [
    "fig = p9.ggplot(week_data, p9.aes(x='black_pop', y='pos_prop', color='week_num')) + p9.geom_point()\\\n",
    "+ p9.scale_x_log10() + p9.scale_y_log10() + p9.geom_smooth()\\\n",
    "+ p9.labels.labs(x='Black prop', y='Pos prop (per day by 10K pop)', color='Week number')\n",
    "fig.save('black_prop.png')"
   ]
  },
  {
   "cell_type": "code",
   "execution_count": null,
   "id": "committed-italy",
   "metadata": {},
   "outputs": [],
   "source": []
  }
 ],
 "metadata": {
  "kernelspec": {
   "display_name": "Python 3",
   "language": "python",
   "name": "python3"
  },
  "language_info": {
   "codemirror_mode": {
    "name": "ipython",
    "version": 3
   },
   "file_extension": ".py",
   "mimetype": "text/x-python",
   "name": "python",
   "nbconvert_exporter": "python",
   "pygments_lexer": "ipython3",
   "version": "3.8.5"
  }
 },
 "nbformat": 4,
 "nbformat_minor": 5
}
